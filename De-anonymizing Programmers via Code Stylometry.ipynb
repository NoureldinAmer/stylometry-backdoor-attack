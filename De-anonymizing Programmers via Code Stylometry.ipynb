{
 "cells": [
  {
   "cell_type": "code",
   "execution_count": 1,
   "metadata": {},
   "outputs": [],
   "source": [
    "import json\n",
    "import random\n",
    "import warnings\n",
    "import numpy as np\n",
    "import pandas as pd\n",
    "import matplotlib.pyplot as plt\n",
    "\n",
    "\n",
    "from tqdm import tqdm\n",
    "from pathlib import Path\n",
    "from collections import defaultdict\n",
    "from features.utils import build_mapping_to_ids\n",
    "\n",
    "warnings.filterwarnings('ignore')"
   ]
  },
  {
   "cell_type": "code",
   "execution_count": 2,
   "metadata": {},
   "outputs": [],
   "source": [
    "import sqlite3\n",
    "import os"
   ]
  },
  {
   "cell_type": "code",
   "execution_count": 3,
   "metadata": {},
   "outputs": [],
   "source": [
    "# Path to your solutions.sqlar file\n",
    "db_path = 'solutions.sqlar'\n",
    "\n",
    "# Connect to the SQLAR file\n",
    "conn = sqlite3.connect(db_path)\n",
    "cursor = conn.cursor()"
   ]
  },
  {
   "cell_type": "code",
   "execution_count": 4,
   "metadata": {},
   "outputs": [
    {
     "data": {
      "text/plain": [
       "[('solutions/elizarov.1.java', 833),\n",
       " ('solutions/stolis.1.java', 931),\n",
       " ('solutions/peter707.0.java', 990),\n",
       " ('solutions/peter707.9.java', 990),\n",
       " ('solutions/elizarov.0.java', 1028)]"
      ]
     },
     "execution_count": 4,
     "metadata": {},
     "output_type": "execute_result"
    }
   ],
   "source": [
    "cursor.execute(\"\"\"\n",
    "    SELECT name, LENGTH(data) as data_length \n",
    "    FROM sqlar \n",
    "    WHERE name LIKE '%.java' \n",
    "    ORDER BY data_length ASC \n",
    "    LIMIT 5\n",
    "\"\"\")\n",
    "\n",
    "cursor.fetchall()"
   ]
  },
  {
   "cell_type": "code",
   "execution_count": 6,
   "metadata": {},
   "outputs": [],
   "source": [
    "# Query to list all .java files in the archive\n",
    "cursor.execute(\"SELECT data  FROM sqlar WHERE name LIKE '%.java'\")\n",
    "\n",
    "# Fetch all matching files\n",
    "java_files = cursor.fetchall()"
   ]
  },
  {
   "cell_type": "code",
   "execution_count": 9,
   "metadata": {},
   "outputs": [
    {
     "data": {
      "text/plain": [
       "'import java.io.*;\\r\\nimport java.math.*;\\r\\nimport java.util.*;\\r\\nimport java.util.stream.*;\\r\\n\\r\\npublic class Solution {\\r\\n\\r\\n\\tvoid solve() {\\r\\n\\t\\tn = nextInt();\\r\\n\\t\\tlong[] xs = new long[n];\\r\\n\\t\\tlong[] ys = new long[n];\\r\\n\\t\\tlong[] zs = new long[n];\\r\\n\\t\\t\\r\\n\\t\\tfor (int i = 0; i < n; i++) {\\r\\n\\t\\t\\txs[i] = nextLong();\\r\\n\\t\\t\\tys[i] = nextLong();\\r\\n\\t\\t\\tzs[i] = nextLong();\\r\\n\\t\\t}\\r\\n\\t\\t\\r\\n\\t\\tbad = new int[n * n * n];\\r\\n\\t\\t\\r\\n\\t\\tfor (int i = 0; i < n; i++) {\\r\\n\\t\\t\\tfor (int j = i + 1; j < n; j++) {\\r\\n\\t\\t\\t\\tfor (int k = j + 1; k < n; k++) {\\r\\n\\t\\t\\t\\t\\t\\r\\n\\t\\t\\t\\t\\tlong x1 = xs[j] - xs[i];\\r\\n\\t\\t\\t\\t\\tlong y1 = ys[j] - ys[i];\\r\\n\\t\\t\\t\\t\\tlong z1 = zs[j] - zs[i];\\r\\n\\t\\t\\t\\t\\t\\r\\n\\t\\t\\t\\t\\tlong x2 = xs[k] - xs[i];\\r\\n\\t\\t\\t\\t\\tlong y2 = ys[k] - ys[i];\\r\\n\\t\\t\\t\\t\\tlong z2 = zs[k] - zs[i];\\r\\n\\t\\t\\t\\t\\t\\r\\n\\t\\t\\t\\t\\tlong a = y1 * z2 - y2 * z1;\\r\\n\\t\\t\\t\\t\\tlong b = z1 * x2 - z2 * x1;\\r\\n\\t\\t\\t\\t\\tlong c = x1 * y2 - x2 * y1;\\r\\n\\t\\t\\t\\t\\t\\r\\n\\t\\t\\t\\t\\tif (c < 0) {\\r\\n\\t\\t\\t\\t\\t\\ta = -a;\\r\\n\\t\\t\\t\\t\\t\\tb = -b;\\r\\n\\t\\t\\t\\t\\t\\tc = -c;\\r\\n\\t\\t\\t\\t\\t}\\r\\n\\t\\t\\t\\t\\t\\r\\n\\t\\t\\t\\t\\tlong d = a * xs[i] + b * ys[i] + c * zs[i];\\r\\n\\t\\t\\t\\t\\t\\r\\n\\t\\t\\t\\t\\tint mask = 0;\\r\\n\\t\\t\\t\\t\\tfor (int q = 0; q < n; q++) {\\r\\n\\t\\t\\t\\t\\t\\tif (q == i || q == j || q == k) {\\r\\n\\t\\t\\t\\t\\t\\t\\tcontinue;\\r\\n\\t\\t\\t\\t\\t\\t}\\r\\n\\t\\t\\t\\t\\t\\tlong gotD = a * xs[q] + b * ys[q] + c * zs[q];\\r\\n\\t\\t\\t\\t\\t\\tif (gotD > d) {\\r\\n\\t\\t\\t\\t\\t\\t\\tmask |= 1 << q;\\r\\n\\t\\t\\t\\t\\t\\t}\\r\\n\\t\\t\\t\\t\\t}\\r\\n\\t\\t\\t\\t\\t\\r\\n\\t\\t\\t\\t\\tbad[((i * n) + j) * n + k] = mask;\\r\\n\\t\\t\\t\\t\\tbad[((i * n) + k) * n + j] = mask;\\r\\n\\t\\t\\t\\t\\tbad[((j * n) + i) * n + k] = mask;\\r\\n\\t\\t\\t\\t\\tbad[((j * n) + k) * n + i] = mask;\\r\\n\\t\\t\\t\\t\\tbad[((k * n) + i) * n + j] = mask;\\r\\n\\t\\t\\t\\t\\tbad[((k * n) + j) * n + i] = mask;\\r\\n\\t\\t\\t\\t}\\r\\n\\t\\t\\t}\\r\\n\\t\\t}\\r\\n\\r\\n\\t\\tp = new int[n];\\r\\n\\t\\tgen(0, 0);\\r\\n\\t\\t\\r\\n\\t\\tfor (int x : p) {\\r\\n\\t\\t\\tout.print((x + 1) + \" \");\\r\\n\\t\\t}\\r\\n\\t\\tout.println();\\r\\n\\t}\\r\\n\\t\\r\\n\\tint[] bad;\\r\\n\\tint[] p;\\r\\n\\tint n;\\r\\n\\t\\r\\n\\tstatic boolean test(int mask, int i) {\\r\\n\\t\\treturn ((mask >> i) & 1) == 1;\\r\\n\\t}\\r\\n\\t\\r\\n\\tboolean gen(int idx, int mask) {\\r\\n\\t\\tif (idx == p.length) {\\r\\n\\t\\t\\treturn true;\\r\\n\\t\\t}\\r\\n\\t\\t\\r\\n\\t\\tfor (int i = 0; i < n; i++) {\\r\\n\\t\\t\\tif (test(mask, i)) {\\r\\n\\t\\t\\t\\tcontinue;\\r\\n\\t\\t\\t}\\r\\n\\t\\t\\t\\r\\n\\t\\t\\tif (idx >= 3) {\\r\\n\\t\\t\\t\\tint cell = (p[idx - 2] * n + p[idx - 1]) * n + i;\\r\\n\\t\\t\\t\\tif ((mask & bad[cell]) != 0) {\\r\\n\\t\\t\\t\\t\\tcontinue;\\r\\n\\t\\t\\t\\t}\\r\\n\\t\\t\\t}\\r\\n\\t\\t\\t\\r\\n\\t\\t\\tp[idx] = i;\\r\\n\\t\\t\\tif (gen(idx + 1, mask | (1 << i))) {\\r\\n\\t\\t\\t\\treturn true;\\r\\n\\t\\t\\t}\\r\\n\\t\\t}\\r\\n\\t\\t\\r\\n\\t\\treturn false;\\r\\n\\t}\\r\\n\\t\\r\\n\\tvoid submit() {\\r\\n\\t\\tint t = nextInt();\\r\\n\\t\\tfor (int i = 1; i <= t; i++) {\\r\\n\\t\\t\\tout.print(\"Case #\" + i + \": \");\\r\\n\\t\\t\\tsolve();\\r\\n\\t\\t}\\r\\n\\t}\\r\\n\\r\\n\\tvoid test() {\\r\\n\\r\\n\\t}\\r\\n\\r\\n\\tvoid stress() {\\r\\n\\t\\tfor (int tst = 0;; tst++) {\\r\\n\\t\\t\\tif (false) {\\r\\n\\t\\t\\t\\tthrow new AssertionError();\\r\\n\\t\\t\\t}\\r\\n\\t\\t\\tSystem.err.println(tst);\\r\\n\\t\\t}\\r\\n\\t}\\r\\n\\r\\n\\tSolution() throws IOException {\\r\\n\\t\\tis = System.in;\\r\\n\\t\\tout = new PrintWriter(System.out);\\r\\n\\t\\tsubmit();\\r\\n\\t\\t// stress();\\r\\n\\t\\t// test();\\r\\n\\t\\tout.close();\\r\\n\\t}\\r\\n\\r\\n\\tstatic final Random rng = new Random();\\r\\n\\tstatic final int C = 5;\\r\\n\\r\\n\\tstatic int rand(int l, int r) {\\r\\n\\t\\treturn l + rng.nextInt(r - l + 1);\\r\\n\\t}\\r\\n\\r\\n\\tpublic static void main(String[] args) throws IOException {\\r\\n\\t\\tnew Solution();\\r\\n\\t}\\r\\n\\r\\n\\tprivate InputStream is;\\r\\n\\tPrintWriter out;\\r\\n\\r\\n\\tprivate byte[] buf = new byte[1 << 14];\\r\\n\\tprivate int bufSz = 0, bufPtr = 0;\\r\\n\\r\\n\\tprivate int readByte() {\\r\\n\\t\\tif (bufSz == -1)\\r\\n\\t\\t\\tthrow new RuntimeException(\"Reading past EOF\");\\r\\n\\t\\tif (bufPtr >= bufSz) {\\r\\n\\t\\t\\tbufPtr = 0;\\r\\n\\t\\t\\ttry {\\r\\n\\t\\t\\t\\tbufSz = is.read(buf);\\r\\n\\t\\t\\t} catch (IOException e) {\\r\\n\\t\\t\\t\\tthrow new RuntimeException(e);\\r\\n\\t\\t\\t}\\r\\n\\t\\t\\tif (bufSz <= 0)\\r\\n\\t\\t\\t\\treturn -1;\\r\\n\\t\\t}\\r\\n\\t\\treturn buf[bufPtr++];\\r\\n\\t}\\r\\n\\r\\n\\tprivate boolean isTrash(int c) {\\r\\n\\t\\treturn c < 33 || c > 126;\\r\\n\\t}\\r\\n\\r\\n\\tprivate int skip() {\\r\\n\\t\\tint b;\\r\\n\\t\\twhile ((b = readByte()) != -1 && isTrash(b))\\r\\n\\t\\t\\t;\\r\\n\\t\\treturn b;\\r\\n\\t}\\r\\n\\r\\n\\tString nextToken() {\\r\\n\\t\\tint b = skip();\\r\\n\\t\\tStringBuilder sb = new StringBuilder();\\r\\n\\t\\twhile (!isTrash(b)) {\\r\\n\\t\\t\\tsb.appendCodePoint(b);\\r\\n\\t\\t\\tb = readByte();\\r\\n\\t\\t}\\r\\n\\t\\treturn sb.toString();\\r\\n\\t}\\r\\n\\r\\n\\tString nextString() {\\r\\n\\t\\tint b = readByte();\\r\\n\\t\\tStringBuilder sb = new StringBuilder();\\r\\n\\t\\twhile (!isTrash(b) || b == \\' \\') {\\r\\n\\t\\t\\tsb.appendCodePoint(b);\\r\\n\\t\\t\\tb = readByte();\\r\\n\\t\\t}\\r\\n\\t\\treturn sb.toString();\\r\\n\\t}\\r\\n\\r\\n\\tdouble nextDouble() {\\r\\n\\t\\treturn Double.parseDouble(nextToken());\\r\\n\\t}\\r\\n\\r\\n\\tchar nextChar() {\\r\\n\\t\\treturn (char) skip();\\r\\n\\t}\\r\\n\\r\\n\\tint nextInt() {\\r\\n\\t\\tint ret = 0;\\r\\n\\t\\tint b = skip();\\r\\n\\t\\tif (b != \\'-\\' && (b < \\'0\\' || b > \\'9\\')) {\\r\\n\\t\\t\\tthrow new InputMismatchException();\\r\\n\\t\\t}\\r\\n\\t\\tboolean neg = false;\\r\\n\\t\\tif (b == \\'-\\') {\\r\\n\\t\\t\\tneg = true;\\r\\n\\t\\t\\tb = readByte();\\r\\n\\t\\t}\\r\\n\\t\\twhile (true) {\\r\\n\\t\\t\\tif (b >= \\'0\\' && b <= \\'9\\') {\\r\\n\\t\\t\\t\\tret = ret * 10 + (b - \\'0\\');\\r\\n\\t\\t\\t} else {\\r\\n\\t\\t\\t\\tif (b != -1 && !isTrash(b)) {\\r\\n\\t\\t\\t\\t\\tthrow new InputMismatchException();\\r\\n\\t\\t\\t\\t}\\r\\n\\t\\t\\t\\treturn neg ? -ret : ret;\\r\\n\\t\\t\\t}\\r\\n\\t\\t\\tb = readByte();\\r\\n\\t\\t}\\r\\n\\t}\\r\\n\\r\\n\\tlong nextLong() {\\r\\n\\t\\tlong ret = 0;\\r\\n\\t\\tint b = skip();\\r\\n\\t\\tif (b != \\'-\\' && (b < \\'0\\' || b > \\'9\\')) {\\r\\n\\t\\t\\tthrow new InputMismatchException();\\r\\n\\t\\t}\\r\\n\\t\\tboolean neg = false;\\r\\n\\t\\tif (b == \\'-\\') {\\r\\n\\t\\t\\tneg = true;\\r\\n\\t\\t\\tb = readByte();\\r\\n\\t\\t}\\r\\n\\t\\twhile (true) {\\r\\n\\t\\t\\tif (b >= \\'0\\' && b <= \\'9\\') {\\r\\n\\t\\t\\t\\tret = ret * 10 + (b - \\'0\\');\\r\\n\\t\\t\\t} else {\\r\\n\\t\\t\\t\\tif (b != -1 && !isTrash(b)) {\\r\\n\\t\\t\\t\\t\\tthrow new InputMismatchException();\\r\\n\\t\\t\\t\\t}\\r\\n\\t\\t\\t\\treturn neg ? -ret : ret;\\r\\n\\t\\t\\t}\\r\\n\\t\\t\\tb = readByte();\\r\\n\\t\\t}\\r\\n\\t}\\r\\n}\\r\\n'"
      ]
     },
     "execution_count": 9,
     "metadata": {},
     "output_type": "execute_result"
    }
   ],
   "source": [
    "code_snippets = [row[0].decode('utf-8') for row in java_files]\n",
    "code_snippets[0]"
   ]
  },
  {
   "cell_type": "code",
   "execution_count": 8,
   "metadata": {},
   "outputs": [
    {
     "name": "stdout",
     "output_type": "stream",
     "text": [
      "139\n"
     ]
    },
    {
     "ename": "ValueError",
     "evalue": "too many values to unpack (expected 2)",
     "output_type": "error",
     "traceback": [
      "\u001b[0;31m---------------------------------------------------------------------------\u001b[0m",
      "\u001b[0;31mValueError\u001b[0m                                Traceback (most recent call last)",
      "Cell \u001b[0;32mIn[8], line 3\u001b[0m\n\u001b[1;32m      1\u001b[0m \u001b[38;5;28;01mfrom\u001b[39;00m \u001b[38;5;21;01mfeatures\u001b[39;00m \u001b[38;5;28;01mimport\u001b[39;00m \u001b[38;5;241m*\u001b[39m\n\u001b[0;32m----> 3\u001b[0m samples \u001b[38;5;241m=\u001b[39m calculate_features_for_files(code_snippets)\n",
      "File \u001b[0;32m~/Developer/School/ENEL 592/CodeStylometry/code_stylometry/features/features.py:101\u001b[0m, in \u001b[0;36mcalculate_features_for_files\u001b[0;34m(code_snippets)\u001b[0m\n\u001b[1;32m     99\u001b[0m \u001b[38;5;28mprint\u001b[39m(\u001b[38;5;28mlen\u001b[39m(code_snippets))\n\u001b[1;32m    100\u001b[0m features \u001b[38;5;241m=\u001b[39m []\n\u001b[0;32m--> 101\u001b[0m \u001b[38;5;28;01mfor\u001b[39;00m (name, snippet) \u001b[38;5;129;01min\u001b[39;00m code_snippets:\n\u001b[1;32m    102\u001b[0m     \u001b[38;5;28;01mtry\u001b[39;00m:\n\u001b[1;32m    103\u001b[0m         feature \u001b[38;5;241m=\u001b[39m {\n\u001b[1;32m    104\u001b[0m             name: name,\n\u001b[1;32m    105\u001b[0m             features: calculate_features(snippet)\n\u001b[1;32m    106\u001b[0m         }\n",
      "\u001b[0;31mValueError\u001b[0m: too many values to unpack (expected 2)"
     ]
    }
   ],
   "source": [
    "from features import *\n",
    "\n",
    "samples = calculate_features_for_files(code_snippets)"
   ]
  },
  {
   "cell_type": "code",
   "execution_count": 39,
   "metadata": {},
   "outputs": [
    {
     "name": "stdout",
     "output_type": "stream",
     "text": [
      "Number of samples: 21\n",
      "Number of features: 787\n"
     ]
    }
   ],
   "source": [
    "X = build_dataset(samples)\n",
    "\n",
    "print(f'Number of samples: {X.shape[0]}')\n",
    "print(f'Number of features: {X.shape[1]}')"
   ]
  },
  {
   "cell_type": "markdown",
   "metadata": {},
   "source": [
    "# Data"
   ]
  },
  {
   "cell_type": "markdown",
   "metadata": {},
   "source": [
    "### Get all problems"
   ]
  },
  {
   "cell_type": "code",
   "execution_count": 40,
   "metadata": {},
   "outputs": [],
   "source": [
    "with open('data/metadata.json', 'r') as file:\n",
    "    metadata = json.load(file)"
   ]
  },
  {
   "cell_type": "code",
   "execution_count": 41,
   "metadata": {},
   "outputs": [],
   "source": [
    "dataset_path = Path('data/codejam/')\n",
    "files = list(dataset_path.rglob('*.java'))"
   ]
  },
  {
   "cell_type": "code",
   "execution_count": 42,
   "metadata": {},
   "outputs": [],
   "source": [
    "usernames = set(it.stem for it in files)\n",
    "username_to_id = build_mapping_to_ids(usernames)"
   ]
  },
  {
   "cell_type": "code",
   "execution_count": 43,
   "metadata": {},
   "outputs": [],
   "source": [
    "dataset = pd.DataFrame({\n",
    "    'path': files,\n",
    "    'round_id': [int(it.parts[2]) for it in files],\n",
    "    'problem_id': [int(it.parts[3]) for it in files],\n",
    "    'user_id': [username_to_id[it.stem] for it in files]\n",
    "})"
   ]
  },
  {
   "cell_type": "code",
   "execution_count": 44,
   "metadata": {},
   "outputs": [
    {
     "data": {
      "text/html": [
       "<div>\n",
       "<style scoped>\n",
       "    .dataframe tbody tr th:only-of-type {\n",
       "        vertical-align: middle;\n",
       "    }\n",
       "\n",
       "    .dataframe tbody tr th {\n",
       "        vertical-align: top;\n",
       "    }\n",
       "\n",
       "    .dataframe thead th {\n",
       "        text-align: right;\n",
       "    }\n",
       "</style>\n",
       "<table border=\"1\" class=\"dataframe\">\n",
       "  <thead>\n",
       "    <tr style=\"text-align: right;\">\n",
       "      <th></th>\n",
       "      <th>path</th>\n",
       "      <th>round_id</th>\n",
       "      <th>problem_id</th>\n",
       "      <th>user_id</th>\n",
       "    </tr>\n",
       "  </thead>\n",
       "  <tbody>\n",
       "  </tbody>\n",
       "</table>\n",
       "</div>"
      ],
      "text/plain": [
       "Empty DataFrame\n",
       "Columns: [path, round_id, problem_id, user_id]\n",
       "Index: []"
      ]
     },
     "execution_count": 44,
     "metadata": {},
     "output_type": "execute_result"
    }
   ],
   "source": [
    "dataset.head()"
   ]
  },
  {
   "cell_type": "markdown",
   "metadata": {},
   "source": [
    "### Select 100 random users who has at least 9 files"
   ]
  },
  {
   "cell_type": "code",
   "execution_count": 45,
   "metadata": {},
   "outputs": [],
   "source": [
    "N_FILES = 9\n",
    "N_USERS = 100"
   ]
  },
  {
   "cell_type": "code",
   "execution_count": 46,
   "metadata": {},
   "outputs": [],
   "source": [
    "random.seed(0)\n",
    "np.random.seed(0)"
   ]
  },
  {
   "cell_type": "code",
   "execution_count": 47,
   "metadata": {},
   "outputs": [
    {
     "ename": "ValueError",
     "evalue": "'a' cannot be empty unless no samples are taken",
     "output_type": "error",
     "traceback": [
      "\u001b[0;31m---------------------------------------------------------------------------\u001b[0m",
      "\u001b[0;31mValueError\u001b[0m                                Traceback (most recent call last)",
      "Cell \u001b[0;32mIn[47], line 3\u001b[0m\n\u001b[1;32m      1\u001b[0m count \u001b[38;5;241m=\u001b[39m dataset\u001b[38;5;241m.\u001b[39mgroupby(\u001b[38;5;124m'\u001b[39m\u001b[38;5;124muser_id\u001b[39m\u001b[38;5;124m'\u001b[39m)\u001b[38;5;241m.\u001b[39mproblem_id\u001b[38;5;241m.\u001b[39mcount()\n\u001b[1;32m      2\u001b[0m users \u001b[38;5;241m=\u001b[39m count[count \u001b[38;5;241m>\u001b[39m\u001b[38;5;241m=\u001b[39m N_FILES]\u001b[38;5;241m.\u001b[39mindex\n\u001b[0;32m----> 3\u001b[0m users \u001b[38;5;241m=\u001b[39m np\u001b[38;5;241m.\u001b[39mrandom\u001b[38;5;241m.\u001b[39mchoice(users, N_USERS, replace\u001b[38;5;241m=\u001b[39m\u001b[38;5;28;01mFalse\u001b[39;00m)\n",
      "File \u001b[0;32mnumpy/random/mtrand.pyx:951\u001b[0m, in \u001b[0;36mnumpy.random.mtrand.RandomState.choice\u001b[0;34m()\u001b[0m\n",
      "\u001b[0;31mValueError\u001b[0m: 'a' cannot be empty unless no samples are taken"
     ]
    }
   ],
   "source": [
    "count = dataset.groupby('user_id').problem_id.count()\n",
    "users = count[count >= N_FILES].index\n",
    "users = np.random.choice(users, N_USERS, replace=False)"
   ]
  },
  {
   "cell_type": "code",
   "execution_count": 10,
   "metadata": {},
   "outputs": [],
   "source": [
    "parts = [dataset[dataset.user_id == user].sample(n=N_FILES, replace=False) for user in users]\n",
    "dataset = pd.concat(parts).reset_index(drop=True)\n",
    "\n",
    "# Create new user ids\n",
    "user_id_to_new_id = build_mapping_to_ids(dataset.user_id)\n",
    "dataset.user_id = dataset.user_id.apply(lambda it: user_id_to_new_id[it])"
   ]
  },
  {
   "cell_type": "code",
   "execution_count": null,
   "metadata": {},
   "outputs": [],
   "source": [
    "dataset.head()"
   ]
  },
  {
   "cell_type": "markdown",
   "metadata": {},
   "source": [
    "# Build dataset"
   ]
  },
  {
   "cell_type": "code",
   "execution_count": 10,
   "metadata": {},
   "outputs": [],
   "source": [
    "from features import *\n",
    "from sklearn.feature_selection import mutual_info_regression"
   ]
  },
  {
   "cell_type": "code",
   "execution_count": 11,
   "metadata": {},
   "outputs": [],
   "source": [
    "# Query to list all .java files in the archive\n",
    "cursor.execute(\"SELECT data , name  FROM sqlar WHERE name LIKE '%.java'\")\n",
    "\n",
    "# Fetch all matching files\n",
    "java_files = cursor.fetchall()"
   ]
  },
  {
   "cell_type": "code",
   "execution_count": 14,
   "metadata": {},
   "outputs": [],
   "source": [
    "code_snippets = [(row[1], row[0].decode('utf-8')) for row in java_files]"
   ]
  },
  {
   "cell_type": "code",
   "execution_count": 20,
   "metadata": {},
   "outputs": [
    {
     "name": "stdout",
     "output_type": "stream",
     "text": [
      "139\n"
     ]
    },
    {
     "data": {
      "text/plain": [
       "[]"
      ]
     },
     "execution_count": 20,
     "metadata": {},
     "output_type": "execute_result"
    }
   ],
   "source": [
    "calculate_features_for_files([(row[1], row[0].decode('utf-8')) for row in java_files])"
   ]
  },
  {
   "cell_type": "code",
   "execution_count": 17,
   "metadata": {},
   "outputs": [
    {
     "data": {
      "text/plain": [
       "0"
      ]
     },
     "execution_count": 17,
     "metadata": {},
     "output_type": "execute_result"
    }
   ],
   "source": [
    "# Query to list all .java files in the archive\n",
    "len(samples)"
   ]
  },
  {
   "cell_type": "code",
   "execution_count": 10,
   "metadata": {},
   "outputs": [],
   "source": [
    "X = build_dataset(samples)\n",
    "y = dataset.user_id.values\n",
    "\n",
    "print(f'Number of samples: {X.shape[0]}')\n",
    "print(f'Number of features: {X.shape[1]}')"
   ]
  },
  {
   "cell_type": "markdown",
   "metadata": {},
   "source": [
    "### Select the best 1500 features according to mutual information"
   ]
  },
  {
   "cell_type": "code",
   "execution_count": null,
   "metadata": {},
   "outputs": [],
   "source": [
    "mi = mutual_info_regression(np.nan_to_num(X), y, random_state=0)\n",
    "mi /= np.max(mi)"
   ]
  },
  {
   "cell_type": "code",
   "execution_count": null,
   "metadata": {},
   "outputs": [],
   "source": [
    "mi_indices = np.argsort(mi)\n",
    "features_indices = mi_indices[-1500:]\n",
    "features = X.columns[features_indices].values\n",
    "X = X[features]\n",
    "\n",
    "print(f'Number of samples: {X.shape[0]}')\n",
    "print(f'Number of features: {X.shape[1]}')"
   ]
  },
  {
   "cell_type": "markdown",
   "metadata": {},
   "source": [
    "### Select top 1500 popular features"
   ]
  },
  {
   "cell_type": "code",
   "execution_count": null,
   "metadata": {},
   "outputs": [],
   "source": [
    "nan_count = X.isna().sum(axis=0)\n",
    "indices = np.argsort(nan_count.values)\n",
    "features = nan_count[indices][:1500].index\n",
    "X = X[features]\n",
    "\n",
    "print(f'Number of samples: {X.shape[0]}')\n",
    "print(f'Number of features: {X.shape[1]}')"
   ]
  },
  {
   "cell_type": "code",
   "execution_count": null,
   "metadata": {},
   "outputs": [],
   "source": [
    "X.head()"
   ]
  },
  {
   "cell_type": "markdown",
   "metadata": {},
   "source": [
    "# Classification"
   ]
  },
  {
   "cell_type": "code",
   "execution_count": 17,
   "metadata": {},
   "outputs": [],
   "source": [
    "from catboost import CatBoostClassifier\n",
    "from sklearn.model_selection import StratifiedKFold"
   ]
  },
  {
   "cell_type": "code",
   "execution_count": null,
   "metadata": {},
   "outputs": [],
   "source": [
    "skf = StratifiedKFold(n_splits=3, shuffle=True, random_state=0)\n",
    "\n",
    "for index, (train_index, valid_index) in enumerate(skf.split(X, y)):\n",
    "    X_train, X_valid = X.iloc[train_index], X.iloc[valid_index]\n",
    "    y_train, y_valid = y[train_index], y[valid_index]\n",
    "\n",
    "    model = CatBoostClassifier(\n",
    "        iterations=500, \n",
    "        learning_rate=0.2,\n",
    "        rsm=0.01,\n",
    "        depth=3,\n",
    "        bootstrap_type='Bernoulli',\n",
    "        subsample=0.7,\n",
    "        loss_function='MultiClass'\n",
    "    )\n",
    "    \n",
    "    model.fit(X_train, y_train, eval_set=(X_valid, y_valid), plot=False, verbose=False)\n",
    "    \n",
    "    y_pred = model.predict(X_train).squeeze()\n",
    "    train_acc = np.average(y_train == y_pred)\n",
    "\n",
    "    y_pred = model.predict(X_valid).squeeze()\n",
    "    valid_acc = np.average(y_valid == y_pred)\n",
    "\n",
    "    print(f'Validation #{index + 1}')\n",
    "    print(f'Train accuracy: {train_acc:.2f}')\n",
    "    print(f'Valid accuracy: {valid_acc:.2f}\\n')"
   ]
  }
 ],
 "metadata": {
  "kernelspec": {
   "display_name": "base",
   "language": "python",
   "name": "python3"
  },
  "language_info": {
   "codemirror_mode": {
    "name": "ipython",
    "version": 3
   },
   "file_extension": ".py",
   "mimetype": "text/x-python",
   "name": "python",
   "nbconvert_exporter": "python",
   "pygments_lexer": "ipython3",
   "version": "3.12.2"
  }
 },
 "nbformat": 4,
 "nbformat_minor": 2
}
